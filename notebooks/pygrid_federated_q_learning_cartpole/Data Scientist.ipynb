{
 "cells": [
  {
   "cell_type": "markdown",
   "id": "a6796fda",
   "metadata": {},
   "source": [
    "# Data Scientist"
   ]
  },
  {
   "cell_type": "markdown",
   "id": "42a67d4c",
   "metadata": {},
   "source": [
    "<div class=\"alert alert-info\">\n",
    "Before running this notebook, start a PyGrid Domain. For a local instance using Docker you can use <code>scripts/start_grid_domain.sh</code>.\n",
    "</div>"
   ]
  },
  {
   "cell_type": "code",
   "execution_count": 1,
   "id": "fdf803f7",
   "metadata": {},
   "outputs": [],
   "source": [
    "from math import prod\n",
    "from typing import Any\n",
    "\n",
    "import torch as T\n",
    "\n",
    "import syft as sy\n",
    "from syft import make_plan\n",
    "from syft.federated.model_centric_fl_client import ModelCentricFLClient\n",
    "from syft.lib.python.int import Int\n",
    "from syft.lib.python.list import List"
   ]
  },
  {
   "cell_type": "markdown",
   "id": "c336582a",
   "metadata": {},
   "source": [
    "## Step 1: Specify configuration"
   ]
  },
  {
   "cell_type": "code",
   "execution_count": 2,
   "id": "790f982d",
   "metadata": {},
   "outputs": [],
   "source": [
    "NAME = \"q-learning\"\n",
    "VERSION = \"0.0.0\"\n",
    "GRID_ADDRESS = \"localhost:5000\"\n",
    "\n",
    "CLIENT_CONFIG = {\n",
    "    \"name\": NAME,\n",
    "    \"version\": VERSION,\n",
    "    \"alpha\": 0.1,\n",
    "    \"gamma\": 1.0,\n",
    "    \"min_epsilon\": 0.1,\n",
    "    \"epsilon_reduction\": 0.001,\n",
    "    \"n_train_iterations\": 1000,\n",
    "    \"n_test_iterations\": 100,\n",
    "    # \"max_updates\": 1,  # custom syft.js option that limits number of training loops per worker\n",
    "}\n",
    "\n",
    "SERVER_CONFIG = {\n",
    "    \"min_workers\": 2,\n",
    "    \"max_workers\": 2,\n",
    "    \"pool_selection\": \"random\",\n",
    "    \"do_not_reuse_workers_until_cycle\": 6,\n",
    "    \"cycle_length\": 28800,  # max cycle length in seconds\n",
    "    \"num_cycles\": 30,  # max number of cycles\n",
    "    \"max_diffs\": 1,  # number of diffs to collect before avg\n",
    "    \"minimum_upload_speed\": 0,\n",
    "    \"minimum_download_speed\": 0,\n",
    "    \"iterative_plan\": True,  # tells PyGrid that avg plan is executed per diff\n",
    "}\n",
    "\n",
    "CARTPOLE_DIMS = (1, 1, 12, 6, 2)"
   ]
  },
  {
   "cell_type": "markdown",
   "id": "a16730e7",
   "metadata": {},
   "source": [
    "## Step 2: Define the model to be hosted"
   ]
  },
  {
   "cell_type": "code",
   "execution_count": 3,
   "id": "9582fe95",
   "metadata": {},
   "outputs": [],
   "source": [
    "# Hacky way to make a Q-table which PyGrid will host.\n",
    "# 1. We need the model itself to be a sy.Module.\n",
    "# 2. We need its parameters to be added via torch.nn.Module instances.\n",
    "# 3. Those instances must be instantiated via torch.nn.Module subclasses imported from torch.\n",
    "# Solution: store the Q-table tensor as the weights in a Linear module and extract/reshape on the client after downloading the model.\n",
    "# The bias represents the epsilon value\n",
    "class QLearningAgent(sy.Module):\n",
    "    def __init__(self, torch_ref: Any, dims: tuple[int, ...], initial_epsilon=1.0, ) -> None:\n",
    "        super().__init__(torch_ref=torch_ref)\n",
    "        n_weights = prod(dims)\n",
    "        self.network = torch_ref.nn.Linear(n_weights, 1, bias=True)\n",
    "        for p in self.parameters():\n",
    "            p.requires_grad = False\n",
    "        torch_ref.nn.init.zeros_(self.network.weight)\n",
    "        self.network.bias.data = torch_ref.tensor([initial_epsilon], requires_grad=False).data"
   ]
  },
  {
   "cell_type": "code",
   "execution_count": 4,
   "id": "adcf4c4e",
   "metadata": {},
   "outputs": [],
   "source": [
    "local_agent = QLearningAgent(T, CARTPOLE_DIMS)"
   ]
  },
  {
   "cell_type": "markdown",
   "id": "ccfe182f",
   "metadata": {},
   "source": [
    "## Step 3: Define the training and averaging plans"
   ]
  },
  {
   "cell_type": "code",
   "execution_count": 5,
   "id": "8bad030b",
   "metadata": {},
   "outputs": [],
   "source": [
    "# Hack: we need a client plan so PyGrid will allow our client to download the model\n",
    "# We can't use a training plan right now because the Blackjack env isn't supported yet\n",
    "@make_plan\n",
    "def nothing_plan():\n",
    "    pass\n",
    "\n",
    "@make_plan\n",
    "def averaging_plan(\n",
    "    # Average of diffs, not parameters\n",
    "    current_average=List(local_agent.parameters()),\n",
    "    next_diff=List(local_agent.parameters()),\n",
    "    num=Int(0),\n",
    "):\n",
    "    return [\n",
    "        (current_param * num + diff_param) / (num + 1)\n",
    "        for current_param, diff_param in zip(current_average, next_diff)\n",
    "    ]"
   ]
  },
  {
   "cell_type": "markdown",
   "id": "ab8ec431",
   "metadata": {},
   "source": [
    "## Step 4: Host in PyGrid"
   ]
  },
  {
   "cell_type": "code",
   "execution_count": 6,
   "id": "cd920501",
   "metadata": {},
   "outputs": [],
   "source": [
    "grid = ModelCentricFLClient(address=GRID_ADDRESS, secure=False)\n",
    "grid.connect()"
   ]
  },
  {
   "cell_type": "code",
   "execution_count": 7,
   "id": "db4df4e0",
   "metadata": {},
   "outputs": [
    {
     "name": "stdout",
     "output_type": "stream",
     "text": [
      "Host response: {'type': 'model-centric/host-training', 'data': {'status': 'success'}}\n"
     ]
    }
   ],
   "source": [
    "response = grid.host_federated_training(\n",
    "    model=local_agent,\n",
    "    client_plans={\"nothing_plan\": nothing_plan},\n",
    "    client_protocols={},\n",
    "    server_averaging_plan=averaging_plan,\n",
    "    client_config=CLIENT_CONFIG,\n",
    "    server_config=SERVER_CONFIG,\n",
    ")\n",
    "print(f\"Host response: {response}\")"
   ]
  },
  {
   "cell_type": "markdown",
   "id": "2dff90c7",
   "metadata": {},
   "source": [
    "<div class=\"alert alert-info\">\n",
    "Now run the Data Owner notebook to train the model.\n",
    "</div>"
   ]
  },
  {
   "cell_type": "code",
   "execution_count": null,
   "id": "57ac8233",
   "metadata": {},
   "outputs": [],
   "source": []
  }
 ],
 "metadata": {
  "kernelspec": {
   "display_name": "Python 3",
   "language": "python",
   "name": "python3"
  },
  "language_info": {
   "codemirror_mode": {
    "name": "ipython",
    "version": 3
   },
   "file_extension": ".py",
   "mimetype": "text/x-python",
   "name": "python",
   "nbconvert_exporter": "python",
   "pygments_lexer": "ipython3",
   "version": "3.9.4"
  }
 },
 "nbformat": 4,
 "nbformat_minor": 5
}
